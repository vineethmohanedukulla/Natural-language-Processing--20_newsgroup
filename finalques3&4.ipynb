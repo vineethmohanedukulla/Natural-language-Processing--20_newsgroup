{
 "cells": [
  {
   "cell_type": "code",
   "execution_count": 8,
   "metadata": {
    "id": "REmBCETtlo6c"
   },
   "outputs": [],
   "source": [
    "# imported the required libraries\n",
    "from tensorflow.keras.models import Sequential\n",
    "from tensorflow.keras import layers\n",
    "from sklearn import preprocessing\n",
    "from sklearn.model_selection import train_test_split\n",
    "from sklearn.datasets import fetch_20newsgroups\n",
    "from keras.layers import Embedding, Flatten\n",
    "import matplotlib.pyplot as plt\n",
    "from tensorflow.keras.preprocessing.text import Tokenizer\n",
    "from keras.preprocessing.sequence import pad_sequences\n",
    "import numpy as np"
   ]
  },
  {
   "cell_type": "code",
   "execution_count": 9,
   "metadata": {
    "id": "s6ElhctGlxsO"
   },
   "outputs": [],
   "source": [
    "# fetched the data \n",
    "newsgroups_train = fetch_20newsgroups(subset='train', shuffle=True)\n",
    "# below we have extracted the features\n",
    "sentences = newsgroups_train.data\n",
    "# extracted the target data\n",
    "y = newsgroups_train.target"
   ]
  },
  {
   "cell_type": "code",
   "execution_count": 10,
   "metadata": {
    "colab": {
     "base_uri": "https://localhost:8080/"
    },
    "id": "X87fel0dl0Ii",
    "outputId": "cc702bea-38b0-4b79-8cd5-2618cf3aa483"
   },
   "outputs": [
    {
     "name": "stdout",
     "output_type": "stream",
     "text": [
      "11821\n",
      "1\n",
      "11821\n",
      "1\n"
     ]
    }
   ],
   "source": [
    "# calculated the uniquie words in the data\n",
    "max_review_len= max([len(s.split()) for s in sentences])\n",
    "print(max_review_len)\n",
    "tokenizer = Tokenizer(num_words=2000)\n",
    "vocab_size= len(tokenizer.word_index)+1\n",
    "print(vocab_size)\n",
    "# converts text data to a sequence of integers.\n",
    "sentences = tokenizer.texts_to_sequences(sentences)\n",
    "#Pads sequences to equal length.\n",
    "padded_docs= pad_sequences(sentences,maxlen=max_review_len)\n",
    "#Encoded the target data\n",
    "le = preprocessing.LabelEncoder()\n",
    "y = le.fit_transform(y)\n",
    "X_train, X_test, y_train, y_test = train_test_split(padded_docs, y, test_size=0.3, random_state=1100)"
   ]
  },
  {
   "cell_type": "code",
   "execution_count": 11,
   "metadata": {
    "colab": {
     "base_uri": "https://localhost:8080/"
    },
    "id": "fvaXaxn1l0--",
    "outputId": "2ba700d4-497e-4535-aa33-b13cb67b51cb"
   },
   "outputs": [
    {
     "name": "stdout",
     "output_type": "stream",
     "text": [
      "Epoch 1/5\n",
      "Epoch 1/5\n",
      "31/31 [==============================] - 89s 3s/step - loss: 8.8171 - accuracy: 0.0471 - val_loss: 3.1356 - val_accuracy: 0.0524\n",
      "31/31 [==============================] - 89s 3s/step - loss: 8.8171 - accuracy: 0.0471 - val_loss: 3.1356 - val_accuracy: 0.0524\n",
      "Epoch 2/5\n",
      "Epoch 2/5\n",
      "31/31 [==============================] - 79s 3s/step - loss: 3.0672 - accuracy: 0.0528 - val_loss: 3.0214 - val_accuracy: 0.0507\n",
      "31/31 [==============================] - 79s 3s/step - loss: 3.0672 - accuracy: 0.0528 - val_loss: 3.0214 - val_accuracy: 0.0507\n",
      "Epoch 3/5\n",
      "Epoch 3/5\n",
      "31/31 [==============================] - 85s 3s/step - loss: 3.0180 - accuracy: 0.0518 - val_loss: 3.0133 - val_accuracy: 0.0542\n",
      "31/31 [==============================] - 85s 3s/step - loss: 3.0180 - accuracy: 0.0518 - val_loss: 3.0133 - val_accuracy: 0.0542\n",
      "Epoch 4/5\n",
      "Epoch 4/5\n",
      "31/31 [==============================] - 82s 3s/step - loss: 3.0054 - accuracy: 0.0484 - val_loss: 3.0081 - val_accuracy: 0.0471\n",
      "31/31 [==============================] - 82s 3s/step - loss: 3.0054 - accuracy: 0.0484 - val_loss: 3.0081 - val_accuracy: 0.0471\n",
      "Epoch 5/5\n",
      "Epoch 5/5\n",
      "31/31 [==============================] - 80s 3s/step - loss: 3.0005 - accuracy: 0.0482 - val_loss: 3.0227 - val_accuracy: 0.0489\n",
      "31/31 [==============================] - 80s 3s/step - loss: 3.0005 - accuracy: 0.0482 - val_loss: 3.0227 - val_accuracy: 0.0489\n"
     ]
    }
   ],
   "source": [
    "# created the sequential model\n",
    "model2 = Sequential()\n",
    "#vocab size is the input dimension\n",
    "model2.add(Embedding(vocab_size, 55, input_length=max_review_len))\n",
    "#flattens the input for next layer\n",
    "model2.add(Flatten())\n",
    "#used relu Activation function.\n",
    "model2.add(layers.Dense(350, activation='relu',input_dim=max_review_len))\n",
    "model2.add(layers.Dense(25, activation='softmax'))\n",
    "#compiled the model.\n",
    "model2.compile(loss='sparse_categorical_crossentropy',optimizer='adam',metrics=['accuracy'])\n",
    "#trained the model using train data and tested the model with test data.\n",
    "history2=model2.fit(X_train,y_train, epochs=5, verbose=True, validation_data=(X_test,y_test), batch_size=256)"
   ]
  },
  {
   "cell_type": "code",
   "execution_count": 12,
   "metadata": {
    "colab": {
     "base_uri": "https://localhost:8080/",
     "height": 295
    },
    "id": "ninYM357l5Fc",
    "outputId": "2f1ca8f9-9d33-482a-f43c-37188639061b"
   },
   "outputs": [
    {
     "data": {
      "image/png": "[encoded data removed]",
      "text/plain": [
       "<Figure size 432x288 with 1 Axes>"
      ]
     },
     "metadata": {
      "needs_background": "light"
     },
     "output_type": "display_data"
    },
    {
     "data": {
      "image/png": "[encoded data removed]",
      "text/plain": [
       "<Figure size 432x288 with 1 Axes>"
      ]
     },
     "metadata": {
      "needs_background": "light"
     },
     "output_type": "display_data"
    }
   ],
   "source": [
    "# plotted the accuracy of validation and training data\n",
    "# plotted the loss of validation and training data\n",
    "plt.plot(history2.history['accuracy'])\n",
    "plt.plot(history2.history['val_accuracy'])\n",
    "plt.plot(history2.history['loss'])\n",
    "plt.plot(history2.history['val_loss'])\n",
    "plt.title('model accuracy graph')\n",
    "plt.ylabel('accuracy')\n",
    "plt.xlabel('epoch')\n",
    "plt.legend(['accuracy', 'validation accuracy','loss','val_loss'], loc='upper right')\n",
    "plt.show()"
   ]
  },
  {
   "cell_type": "code",
   "execution_count": 13,
   "metadata": {
    "colab": {
     "base_uri": "https://localhost:8080/"
    },
    "id": "qtIqbaJel7Mk",
    "outputId": "e6a048fb-05e2-42e3-e410-ab32aa8bf82a"
   },
   "outputs": [
    {
     "name": "stdout",
     "output_type": "stream",
     "text": [
      "[[4.4946797e-02 6.2269732e-02 7.8315452e-02 ... 1.6112223e-04\n",
      "  3.3084987e-05 7.6672695e-05]\n",
      " [4.4946797e-02 6.2269732e-02 7.8315452e-02 ... 1.6112223e-04\n",
      "  3.3084987e-05 7.6672695e-05]\n",
      " [4.4946797e-02 6.2269732e-02 7.8315452e-02 ... 1.6112223e-04\n",
      "  3.3084987e-05 7.6672695e-05]\n",
      " ...\n",
      " [4.4946827e-02 6.2269662e-02 7.8315400e-02 ... 1.6112196e-04\n",
      "  3.3084914e-05 7.6672535e-05]\n",
      " [4.4946827e-02 6.2269662e-02 7.8315400e-02 ... 1.6112196e-04\n",
      "  3.3084914e-05 7.6672535e-05]\n",
      " [4.4946827e-02 6.2269662e-02 7.8315400e-02 ... 1.6112195e-04\n",
      "  3.3084914e-05 7.6672528e-05]]\n",
      "[ 1 12  2 ...  7  0 11]\n",
      "Actual Value: 12\n",
      "Predicted Value 2\n",
      "[[4.4946797e-02 6.2269732e-02 7.8315452e-02 ... 1.6112223e-04\n",
      "  3.3084987e-05 7.6672695e-05]\n",
      " [4.4946797e-02 6.2269732e-02 7.8315452e-02 ... 1.6112223e-04\n",
      "  3.3084987e-05 7.6672695e-05]\n",
      " [4.4946797e-02 6.2269732e-02 7.8315452e-02 ... 1.6112223e-04\n",
      "  3.3084987e-05 7.6672695e-05]\n",
      " ...\n",
      " [4.4946827e-02 6.2269662e-02 7.8315400e-02 ... 1.6112196e-04\n",
      "  3.3084914e-05 7.6672535e-05]\n",
      " [4.4946827e-02 6.2269662e-02 7.8315400e-02 ... 1.6112196e-04\n",
      "  3.3084914e-05 7.6672535e-05]\n",
      " [4.4946827e-02 6.2269662e-02 7.8315400e-02 ... 1.6112195e-04\n",
      "  3.3084914e-05 7.6672528e-05]]\n",
      "[ 1 12  2 ...  7  0 11]\n",
      "Actual Value: 12\n",
      "Predicted Value 2\n"
     ]
    }
   ],
   "source": [
    "#predicting the output for the input data.\n",
    "X=model2.predict(X_test)\n",
    "print(X)\n",
    "print(y_test)\n",
    "print(\"Actual Value:\",y_test[1])\n",
    "print(\"Predicted Value\",np.argmax(X[1]))"
   ]
  }
 ],
 "metadata": {
  "colab": {
   "name": "ICP11Q3&Q4.ipynb",
   "provenance": []
  },
  "kernelspec": {
   "display_name": "Python 3 (ipykernel)",
   "language": "python",
   "name": "python3"
  },
  "language_info": {
   "codemirror_mode": {
    "name": "ipython",
    "version": 3
   },
   "file_extension": ".py",
   "mimetype": "text/x-python",
   "name": "python",
   "nbconvert_exporter": "python",
   "pygments_lexer": "ipython3",
   "version": "3.9.7"
  }
 },
 "nbformat": 4,
 "nbformat_minor": 1
}
