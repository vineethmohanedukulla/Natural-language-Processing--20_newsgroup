{
 "cells": [
  {
   "cell_type": "code",
   "execution_count": 1,
   "metadata": {
    "id": "s28OcdNwzJl_"
   },
   "outputs": [],
   "source": [
    "# imported the required libraries\n",
    "from tensorflow.keras.models import Sequential\n",
    "from tensorflow.keras import layers\n",
    "from tensorflow.keras.preprocessing.text import Tokenizer\n",
    "import pandas as pd\n",
    "import tensorflow as tf\n",
    "from sklearn import preprocessing\n",
    "from sklearn.model_selection import train_test_split\n",
    "from keras.preprocessing.sequence import pad_sequences\n",
    "from keras.layers import Embedding, Flatten"
   ]
  },
  {
   "cell_type": "code",
   "execution_count": 2,
   "metadata": {
    "colab": {
     "base_uri": "https://localhost:8080/"
    },
    "id": "L7NhVNkizREf",
    "outputId": "01fbc7fe-94ff-45de-fc27-05ac01f7d3f0"
   },
   "outputs": [
    {
     "name": "stdout",
     "output_type": "stream",
     "text": [
      "   Unnamed: 0  type                                             review label  \\\n",
      "0           0  test  Once again Mr. Costner has dragged out a movie...   neg   \n",
      "1           1  test  This is an example of why the majority of acti...   neg   \n",
      "2           2  test  First of all I hate those moronic rappers, who...   neg   \n",
      "3           3  test  Not even the Beatles could write songs everyon...   neg   \n",
      "4           4  test  Brass pictures (movies is not a fitting word f...   neg   \n",
      "\n",
      "          file  \n",
      "0      0_2.txt  \n",
      "1  10000_4.txt  \n",
      "2  10001_1.txt  \n",
      "3  10002_3.txt  \n",
      "4  10003_3.txt  \n"
     ]
    }
   ],
   "source": [
    "df = pd.read_csv('C:/Users/eduku/Documents/GitHub/icp-11-vekfd/imdb_master.csv',encoding='latin-1')\n",
    "print(df.head())\n",
    "# we have extracted the features and target variables\n",
    "sentences = df['review'].values\n",
    "y = df['label'].values"
   ]
  },
  {
   "cell_type": "markdown",
   "metadata": {
    "id": "pdbksz1bwkrF"
   },
   "source": [
    "Tokenization"
   ]
  },
  {
   "cell_type": "code",
   "execution_count": 3,
   "metadata": {
    "id": "3A00TvGy1Fjo"
   },
   "outputs": [],
   "source": [
    "#tokenized the feature data\n",
    "tokenizer = Tokenizer(num_words=2470)\n",
    "tokenizer.fit_on_texts(sentences)"
   ]
  },
  {
   "cell_type": "markdown",
   "metadata": {
    "id": "TdchfufsxXlI"
   },
   "source": [
    "Convert list of texts to numpy matrix"
   ]
  },
  {
   "cell_type": "code",
   "execution_count": 4,
   "metadata": {
    "id": "Acx7rMNC1hMV"
   },
   "outputs": [],
   "source": [
    "sentences = tokenizer.texts_to_matrix(sentences)"
   ]
  },
  {
   "cell_type": "code",
   "execution_count": 5,
   "metadata": {},
   "outputs": [
    {
     "data": {
      "text/plain": [
       "2470"
      ]
     },
     "execution_count": 5,
     "metadata": {},
     "output_type": "execute_result"
    }
   ],
   "source": [
    "len(sentences[0])"
   ]
  },
  {
   "cell_type": "code",
   "execution_count": 6,
   "metadata": {
    "id": "8_zUREyJ1zsK"
   },
   "outputs": [],
   "source": [
    "# encoding the target columns and splitting the data into test and train data\n",
    "le = preprocessing.LabelEncoder()\n",
    "y = le.fit_transform(y)\n",
    "X_train, X_test, y_train, y_test = train_test_split(sentences, y, test_size=0.25, random_state=1000)"
   ]
  },
  {
   "cell_type": "code",
   "execution_count": 7,
   "metadata": {
    "colab": {
     "base_uri": "https://localhost:8080/"
    },
    "id": "wjN3UnVu2Nst",
    "outputId": "341eccee-cdda-49f3-a069-a36cbbf61bfa"
   },
   "outputs": [
    {
     "name": "stdout",
     "output_type": "stream",
     "text": [
      "2470\n"
     ]
    }
   ],
   "source": [
    "import numpy as np\n",
    "input_dim=np.prod(X_train.shape[1:])\n",
    "# printed the diimension of the input record\n",
    "print(input_dim)"
   ]
  },
  {
   "cell_type": "markdown",
   "metadata": {
    "id": "J5PGT7BaymJh"
   },
   "source": [
    "Creating a sequential model"
   ]
  },
  {
   "cell_type": "code",
   "execution_count": 8,
   "metadata": {
    "id": "bhloaACf33jR"
   },
   "outputs": [],
   "source": [
    "model = Sequential()\n",
    "model.add(layers.Dense(300,input_dim=input_dim, activation='relu'))\n",
    "model.add(layers.Dense(3, activation='softmax'))\n",
    "model.compile(loss='sparse_categorical_crossentropy',optimizer='adam',metrics=['acc'])"
   ]
  },
  {
   "cell_type": "markdown",
   "metadata": {
    "id": "xEQV1QRWyrx2"
   },
   "source": [
    "Fitting the model"
   ]
  },
  {
   "cell_type": "code",
   "execution_count": 9,
   "metadata": {
    "colab": {
     "base_uri": "https://localhost:8080/"
    },
    "id": "VEk6FwDG4MgK",
    "outputId": "085dc51a-b501-4342-e9b4-7b947f71a46a"
   },
   "outputs": [
    {
     "name": "stdout",
     "output_type": "stream",
     "text": [
      "Epoch 1/5\n",
      "293/293 [==============================] - 7s 20ms/step - loss: 0.8754 - acc: 0.5058 - val_loss: 0.8387 - val_acc: 0.5171\n",
      "Epoch 2/5\n",
      "293/293 [==============================] - 5s 17ms/step - loss: 0.7773 - acc: 0.5890 - val_loss: 0.8350 - val_acc: 0.5214\n",
      "Epoch 3/5\n",
      "293/293 [==============================] - 5s 17ms/step - loss: 0.6607 - acc: 0.6965 - val_loss: 0.8674 - val_acc: 0.5163\n",
      "Epoch 4/5\n",
      "293/293 [==============================] - 5s 17ms/step - loss: 0.4481 - acc: 0.8420 - val_loss: 0.9647 - val_acc: 0.5146\n",
      "Epoch 5/5\n",
      "293/293 [==============================] - 6s 19ms/step - loss: 0.2360 - acc: 0.9460 - val_loss: 1.0953 - val_acc: 0.5047\n"
     ]
    }
   ],
   "source": [
    "history=model.fit(X_train,y_train, epochs=5, verbose=True, validation_data=(X_test,y_test), batch_size=256)"
   ]
  },
  {
   "cell_type": "markdown",
   "metadata": {
    "id": "xij9qRhlyyCJ"
   },
   "source": [
    "Plotting the model accuracy graph"
   ]
  },
  {
   "cell_type": "code",
   "execution_count": 10,
   "metadata": {
    "colab": {
     "base_uri": "https://localhost:8080/",
     "height": 295
    },
    "id": "GGqckOXyZbmV",
    "outputId": "2c9a7c53-7207-4442-a3c0-ebb2a0281497"
   },
   "outputs": [
    {
     "data": {
      "image/png": "[encoded data removed]",
      "text/plain": [
       "<Figure size 432x288 with 1 Axes>"
      ]
     },
     "metadata": {
      "needs_background": "light"
     },
     "output_type": "display_data"
    }
   ],
   "source": [
    "import matplotlib.pyplot as plt\n",
    "plt.plot(history.history['acc'])\n",
    "plt.plot(history.history['val_acc'])\n",
    "plt.title('Model accuracy')\n",
    "plt.ylabel('Accuracy')\n",
    "plt.xlabel('Epoch')\n",
    "plt.legend(['Training Accuracy','Validation Accuracy'], loc='upper left')\n",
    "plt.show()"
   ]
  },
  {
   "cell_type": "code",
   "execution_count": 11,
   "metadata": {
    "id": "LI6a4uuV5ggp"
   },
   "outputs": [],
   "source": [
    "nsentences=df['review']\n",
    "max_review_len=max([len(s.split()) for s in nsentences])\n",
    "# calculated the number of unique words\n",
    "vocab_size=len(tokenizer.word_index)+1\n",
    "#converts each sentence into integer form\n",
    "nsentences=tokenizer.texts_to_sequences(nsentences)\n",
    "#Pads sentences to equal length because we need to send the data to model in equal sizes\n",
    "padded_docs=pad_sequences(nsentences,maxlen=max_review_len)\n"
   ]
  },
  {
   "cell_type": "code",
   "execution_count": 12,
   "metadata": {
    "id": "ZlwLXbIYO6v1"
   },
   "outputs": [],
   "source": [
    "model1 = Sequential()\n",
    "model1.add(Embedding(vocab_size,50,input_length=max_review_len))\n",
    "model1.add(Flatten())\n",
    "model1.add(layers.Dense(300,input_dim=input_dim, activation='relu'))\n",
    "model1.add(layers.Dense(3, activation='softmax'))\n",
    "model1.compile(loss='sparse_categorical_crossentropy',optimizer='adam',metrics=['acc'])"
   ]
  },
  {
   "cell_type": "markdown",
   "metadata": {
    "id": "qbPOP4g2zqiK"
   },
   "source": [
    "fit the model"
   ]
  },
  {
   "cell_type": "code",
   "execution_count": 20,
   "metadata": {
    "colab": {
     "base_uri": "https://localhost:8080/"
    },
    "id": "VmGT09FBRgeU",
    "outputId": "6e5449d2-9886-404f-8914-2441db726107"
   },
   "outputs": [
    {
     "name": "stdout",
     "output_type": "stream",
     "text": [
      "Epoch 1/5\n",
      "293/293 [==============================] - 119s 405ms/step - loss: 0.7506 - acc: 0.5977 - val_loss: 0.8610 - val_acc: 0.5104\n",
      "Epoch 2/5\n",
      "293/293 [==============================] - 115s 393ms/step - loss: 0.7201 - acc: 0.6220 - val_loss: 0.8747 - val_acc: 0.5084\n",
      "Epoch 3/5\n",
      "293/293 [==============================] - 116s 397ms/step - loss: 0.6771 - acc: 0.6537 - val_loss: 0.9368 - val_acc: 0.5131\n",
      "Epoch 4/5\n",
      "293/293 [==============================] - 119s 405ms/step - loss: 0.6224 - acc: 0.6878 - val_loss: 1.0275 - val_acc: 0.5082\n",
      "Epoch 5/5\n",
      "293/293 [==============================] - 121s 414ms/step - loss: 0.5574 - acc: 0.7289 - val_loss: 1.1943 - val_acc: 0.5019\n"
     ]
    }
   ],
   "source": [
    "history1=model1.fit(X_train,y_train, epochs=5, verbose=True, validation_data=(X_test,y_test), batch_size=256)"
   ]
  },
  {
   "cell_type": "markdown",
   "metadata": {
    "id": "6Y6LIhQszr43"
   },
   "source": [
    "Model accuracy graph"
   ]
  },
  {
   "cell_type": "code",
   "execution_count": 19,
   "metadata": {
    "colab": {
     "base_uri": "https://localhost:8080/",
     "height": 295
    },
    "id": "FXM0xMtVaIfk",
    "outputId": "ef4bcdcd-7261-4627-8749-e600f79d4e01"
   },
   "outputs": [
    {
     "data": {
      "image/png": "[encoded data removed]",
      "text/plain": [
       "<Figure size 432x288 with 1 Axes>"
      ]
     },
     "metadata": {
      "needs_background": "light"
     },
     "output_type": "display_data"
    }
   ],
   "source": [
    "import matplotlib.pyplot as plt\n",
    "plt.plot(history1.history['acc'])\n",
    "plt.plot(history1.history['val_acc'])\n",
    "plt.title('Model accuracy')\n",
    "plt.ylabel('Accuracy')\n",
    "plt.xlabel('Epoch')\n",
    "plt.legend(['Training Accuracy','Validation Accuracy'], loc='upper left')\n",
    "plt.show()"
   ]
  }
 ],
 "metadata": {
  "colab": {
   "collapsed_sections": [],
   "name": "ICP11_TASK1_TASK2.ipynb",
   "provenance": []
  },
  "kernelspec": {
   "display_name": "Python 3 (ipykernel)",
   "language": "python",
   "name": "python3"
  },
  "language_info": {
   "codemirror_mode": {
    "name": "ipython",
    "version": 3
   },
   "file_extension": ".py",
   "mimetype": "text/x-python",
   "name": "python",
   "nbconvert_exporter": "python",
   "pygments_lexer": "ipython3",
   "version": "3.9.7"
  }
 },
 "nbformat": 4,
 "nbformat_minor": 1
}
